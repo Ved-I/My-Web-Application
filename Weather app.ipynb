{
 "cells": [
  {
   "cell_type": "code",
   "execution_count": 8,
   "id": "96a628a8",
   "metadata": {},
   "outputs": [
    {
     "name": "stdout",
     "output_type": "stream",
     "text": [
      "Enter city (type 'exit' to quit): Pune\n",
      "The weather in Pune is: Rain\n",
      "The temperature in Pune is: 78ºF\n",
      "Enter city (type 'exit' to quit): Exit\n",
      "Exiting the weather app.\n"
     ]
    }
   ],
   "source": [
    "import requests\n",
    "\n",
    "api_key = 'c7d41d3e72d27bcc26d562b82ede22c2'\n",
    "\n",
    "while True:\n",
    "    user_input = input(\"Enter city (type 'exit' to quit): \")\n",
    "\n",
    "    if user_input.lower() == 'exit':\n",
    "        print(\"Exiting the weather app.\")\n",
    "        break\n",
    "\n",
    "    weather_data = requests.get(\n",
    "        f\"https://api.openweathermap.org/data/2.5/weather?q={user_input}&units=imperial&APPID={api_key}\")\n",
    "\n",
    "    try:\n",
    "        weather_data.raise_for_status()  # Check for any HTTP errors\n",
    "        data = weather_data.json()\n",
    "        if data['cod'] == '404':\n",
    "            print(\"No City Found\")\n",
    "        else:\n",
    "            weather = data['weather'][0]['main']\n",
    "            temp = round(data['main']['temp'])\n",
    "            print(f\"The weather in {user_input} is: {weather}\")\n",
    "            print(f\"The temperature in {user_input} is: {temp}ºF\")\n",
    "    except requests.exceptions.RequestException as e:\n",
    "        print(\"Error occurred:\", e)"
   ]
  },
  {
   "cell_type": "code",
   "execution_count": null,
   "id": "c2b7fb8b",
   "metadata": {},
   "outputs": [],
   "source": []
  }
 ],
 "metadata": {
  "kernelspec": {
   "display_name": "Python 3 (ipykernel)",
   "language": "python",
   "name": "python3"
  },
  "language_info": {
   "codemirror_mode": {
    "name": "ipython",
    "version": 3
   },
   "file_extension": ".py",
   "mimetype": "text/x-python",
   "name": "python",
   "nbconvert_exporter": "python",
   "pygments_lexer": "ipython3",
   "version": "3.9.13"
  }
 },
 "nbformat": 4,
 "nbformat_minor": 5
}
